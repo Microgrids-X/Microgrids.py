{
 "cells": [
  {
   "cell_type": "markdown",
   "id": "6edd7377-ce3a-468e-82f0-d3a1f5292a1d",
   "metadata": {},
   "source": [
    "# ⚡ Démonstration du simulateur de micro-réseaux : “Power for an island” ⚡\n",
    "\n",
    "![\"Power for an island\" banner](images/Island_power_banner.svg)\n",
    "\n",
    "Démonstration de la simulation opérationnelle et économique d'un micro-réseau isolé (avec [Microgrids.py](https://github.com/Microgrids-X/Microgrids.py))."
   ]
  },
  {
   "cell_type": "markdown",
   "id": "69de9e3f-f31a-45df-9297-337044c7d9df",
   "metadata": {},
   "source": [
    "## Contexte : \n",
    "\n",
    "- À une vingtaine de km des côtes de la France continentale se trouve une île de 1000 habitants qui n'est pas connectée au grand réseau électrique du continent.\n",
    "- Cette démo interactive vous propose d’explorer plusieurs mix énergétiques pour **alimenter cette île en électricité**.\n",
    "- Sources d’énergie disponibles : \n",
    "    - des panneaux solaires\n",
    "    - un générateur dispatchable\n",
    "    - une batterie (pour mieux adapter la consommation et l'énergie solaire disponible)\n",
    "\n",
    "Avertissement : bien que nous ayons essayé de mettre des chiffres raisonnables dans cette démo, ne prenez pas son résultat comme une *« vérité scientifique parfaite »* (si un tel concept existe). En particulier, alimenter une île notoirement venteuse sans aucune éolienne n'est peut-être pas la meilleure solution possible (cette option pourrait être proposée dans une prochaine version). Néanmoins, il est certain que l'énergie solaire peut avoir un impact positif, même dans une région (la Bretagne) connue pour son climat pluvieux !\n",
    "\n",
    "*[la suite reste à traduire]*"
   ]
  },
  {
   "cell_type": "markdown",
   "id": "918839ef-aed4-4e69-8eb4-eccc74a01f64",
   "metadata": {},
   "source": [
    "## Instructions:\n",
    "\n",
    "1. Use the Run button (▶️) or `Shift+Enter` to run selected “code cells” (gray background).\n",
    "2. Run first the two code cells below to setup the demo\n",
    "3. The real experiment starts when running the third cell (which contains `interactive(...)`)\n",
    "\n",
    "**Remark**: although this app is displayed in a web browser, all data is stored and processed *locally on your computer* (unlike typical cloud apps) thanks to [JupyterLite](https://jupyterlite.readthedocs.io/en/latest/). This means that your privacy is respected: no record of your action is send to remote servers. Consequence: if you want a keep record of your experiments, use \"File/Download\"."
   ]
  },
  {
   "cell_type": "code",
   "execution_count": 1,
   "id": "1f2096d2-4924-4214-8420-e9b5cd31d56c",
   "metadata": {},
   "outputs": [
    {
     "name": "stdout",
     "output_type": "stream",
     "text": [
      "When run outside JupyterLite, this demo requires you to install the necessary packages by yourself\n"
     ]
    }
   ],
   "source": [
    "try: # Install microgrids package in JupyterLite, if run in JupyterLite\n",
    "    import piplite\n",
    "    await piplite.install(['microgrids', 'ipywidgets'])\n",
    "except ImportError:\n",
    "    print('When run outside JupyterLite, this demo requires you to install the necessary packages by yourself')"
   ]
  },
  {
   "cell_type": "code",
   "execution_count": 2,
   "id": "75e14921-e125-4ea5-a1e7-bc63315c3d74",
   "metadata": {},
   "outputs": [
    {
     "name": "stdout",
     "output_type": "stream",
     "text": [
      "microgrid_showcase_setup.py\n",
      "Showcase setup complete.\n"
     ]
    }
   ],
   "source": [
    "%run -i microgrid_showcase_setup.py"
   ]
  },
  {
   "cell_type": "markdown",
   "id": "4f0ab544-7640-43aa-9dca-e4c773df0037",
   "metadata": {},
   "source": [
    "## Experiment: interactive energy mix"
   ]
  },
  {
   "cell_type": "markdown",
   "id": "a64f659e-334c-413d-8dfd-d0d8a8c47e15",
   "metadata": {},
   "source": [
    "Experiment, with a large enough dispatchable generator, starting from zero PV and zero battery:\n",
    "\n",
    "1. Start by first increasing PV power\n",
    "    - at first this reduce the usage of the generator\n",
    "    - but beyond ~2000 kW, there is more and more spilled energy\n",
    "2. Then, for a PV power of 5000 kW, increase battery energy to reduce spilled energy\n",
    "    - at first, this reduces spilled energy and therefore reduces further generator usage\n",
    "    - but beyond ~8000 kWh, it requires a higher and higher capacity to get an effect\n",
    "\n",
    "With appropriate settings, you should find a Levelized Cost of Electricity below 0.30 \\\\$/kWh (while it is 0.35 \\\\$/kWh without PV and battery)."
   ]
  },
  {
   "cell_type": "code",
   "execution_count": 3,
   "id": "4da8a4ca-fc3c-40f0-8ae3-49b94308fa21",
   "metadata": {},
   "outputs": [
    {
     "data": {
      "application/vnd.jupyter.widget-view+json": {
       "model_id": "2fea90abb2174a21ba33a9a2280d4e3d",
       "version_major": 2,
       "version_minor": 0
      },
      "text/plain": [
       "interactive(children=(FloatSlider(value=0.0, description='PV_power', max=10000.0, step=500.0), FloatSlider(val…"
      ]
     },
     "metadata": {},
     "output_type": "display_data"
    }
   ],
   "source": [
    "interactive(interactive_energy_mix, PV_power=(0.0, 10e3, 500), Batt_energy=(0.0, 15e3, 1e3))"
   ]
  },
  {
   "cell_type": "markdown",
   "id": "43ab8474-04e1-4c6d-8cdd-33fb153457d8",
   "metadata": {},
   "source": [
    "### Bonus: undersized generator – degraded quality of service"
   ]
  },
  {
   "cell_type": "markdown",
   "id": "4f8a6d8c-a530-4142-a783-79316e6e5691",
   "metadata": {},
   "source": [
    "You can experiment with an *undersized* dispatchable generator (undersized = less than max load which is 1.8 MW).\n",
    "This yields some *“load shedding”*, that is a *degraded quality of service* where the desired electricity consumption is not satisfied at all times.\n",
    "\n",
    "Then you can witness how the solar plant together with the battery can *improve* this quality of service (only partially though).\n",
    "\n",
    "**Intructions**: \n",
    "1. Run the cell to change the value of `power_rated_gen`. This is a global variable which sets the size of the generator.\n",
    "2. Go back to the interactive plot above and move the slider to update the computation with the new generator size"
   ]
  },
  {
   "cell_type": "code",
   "execution_count": 3,
   "id": "d3da946d-a4d8-4d94-b393-a21a10eac3fa",
   "metadata": {},
   "outputs": [],
   "source": [
    "power_rated_gen = 1000.  # < 1000 to see some significant load shedding (kW)"
   ]
  },
  {
   "cell_type": "markdown",
   "id": "4b912e7a-365c-487d-8f22-76f00bf29299",
   "metadata": {},
   "source": [
    "---\n",
    "## Going further\n",
    "\n",
    "To get more understanding of the [Microgrids.py](https://github.com/Microgrids-X/Microgrids.py) package\n",
    "used for estimating the operation & economics of a microgrid project,\n",
    "open the [Microgrid_py_PV_BT_DG.ipynb](Microgrid_py_PV_BT_DG.ipynb) notebook.\n",
    "It contains the same example as here, but presented step-by-step instead of being packed inside the [microgrid_showcase_setup.py](microgrid_showcase_setup.py) script (which is run at the start).\n",
    "This notebook also gives more explanations on how this example is formulated (data sources, parameters values…).\n",
    "\n",
    "*Image credit*:\n",
    "the “Power for an island” banner by Pierre Haessig is derived from the photo [Ile de Sein depuis la pointe du Raz](\n",
    "https://www.flickr.com/photos/philippeos/10036523006/) by [philippematon](https://www.flickr.com/photos/philippeos/) on Flickr, 2013, [CC-BY](https://creativecommons.org/licenses/by/2.0/)."
   ]
  }
 ],
 "metadata": {
  "kernelspec": {
   "display_name": "Python 3 (ipykernel)",
   "language": "python",
   "name": "python3"
  },
  "language_info": {
   "codemirror_mode": {
    "name": "ipython",
    "version": 3
   },
   "file_extension": ".py",
   "mimetype": "text/x-python",
   "name": "python",
   "nbconvert_exporter": "python",
   "pygments_lexer": "ipython3",
   "version": "3.9.13"
  }
 },
 "nbformat": 4,
 "nbformat_minor": 5
}
