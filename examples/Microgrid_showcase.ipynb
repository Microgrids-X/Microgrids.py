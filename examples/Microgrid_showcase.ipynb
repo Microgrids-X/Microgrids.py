{
 "cells": [
  {
   "cell_type": "markdown",
   "id": "6edd7377-ce3a-468e-82f0-d3a1f5292a1d",
   "metadata": {},
   "source": [
    "# Microgrids simulator showcase\n",
    "\n",
    "Demo of the operational & economic simulation of a Microgrid with Solar power, a battery and a dispatchable generator (using [Microgrids.py](https://github.com/Microgrids-X/Microgrids.py)).\n",
    "\n",
    "**Intructions**: Use the Run button (▶️) or `Shift+Enter` to run selected cells."
   ]
  },
  {
   "cell_type": "markdown",
   "id": "918839ef-aed4-4e69-8eb4-eccc74a01f64",
   "metadata": {},
   "source": [
    "Remark: although this app is displayed in a web browser, all data is stored and processed *locally on your computer* (unlike typical cloud apps) thanks to [JupyterLite](https://jupyterlite.readthedocs.io/en/latest/). Consequences: 1) your privacy is respected, and 2) if you want a record of your experiment, use \"File/Download\". "
   ]
  },
  {
   "cell_type": "code",
   "execution_count": 1,
   "id": "75e14921-e125-4ea5-a1e7-bc63315c3d74",
   "metadata": {},
   "outputs": [
    {
     "name": "stdout",
     "output_type": "stream",
     "text": [
      "microgrid_showcase_setup.py\n",
      "Showcase setup complete.\n"
     ]
    }
   ],
   "source": [
    "%run -i microgrid_showcase_setup.py"
   ]
  },
  {
   "cell_type": "markdown",
   "id": "4f0ab544-7640-43aa-9dca-e4c773df0037",
   "metadata": {},
   "source": [
    "## Interactive energy mix"
   ]
  },
  {
   "cell_type": "markdown",
   "id": "a64f659e-334c-413d-8dfd-d0d8a8c47e15",
   "metadata": {},
   "source": [
    "Experiment starting from zero PV and zero battery:\n",
    "\n",
    "1. Start by first increasing PV power\n",
    "    - at first this reduce the usage of the generator\n",
    "    - but beyond ~2000 kW, there is more and more spilled energy\n",
    "2. Then, for a PV power of 5000 kW, increase battery energy to reduce spilled energy\n",
    "    - at first, this reduces spilled energy and therefore reduces further generator usage\n",
    "    - but beyond ~8000 kWh, it requires a higher and higher capacity to get an effect\n",
    "\n",
    "With appropriate settings, you should find a Levelized Cost of Electricity below 0.30 \\\\$/kWh (while it is 0.35 \\\\$/kWh without PV and battery)."
   ]
  },
  {
   "cell_type": "code",
   "execution_count": 2,
   "id": "4da8a4ca-fc3c-40f0-8ae3-49b94308fa21",
   "metadata": {},
   "outputs": [
    {
     "data": {
      "application/vnd.jupyter.widget-view+json": {
       "model_id": "3fc6066c76a04e588a03aa368bb0753c",
       "version_major": 2,
       "version_minor": 0
      },
      "text/plain": [
       "interactive(children=(FloatSlider(value=0.0, description='PV_power', max=10000.0, step=500.0), FloatSlider(val…"
      ]
     },
     "metadata": {},
     "output_type": "display_data"
    }
   ],
   "source": [
    "interactive(interactive_energy_mix, PV_power=(0.0, 10e3, 500), Batt_energy=(0.0, 15e3, 1e3))"
   ]
  },
  {
   "cell_type": "markdown",
   "id": "43ab8474-04e1-4c6d-8cdd-33fb153457d8",
   "metadata": {},
   "source": [
    "### Bonus: undersized generator – degraded quality of service"
   ]
  },
  {
   "cell_type": "markdown",
   "id": "4f8a6d8c-a530-4142-a783-79316e6e5691",
   "metadata": {},
   "source": [
    "You can experiment with an *undersized* dispatchable generator (undersized: less than max load).\n",
    "This yields some *“load shedding”*, that is a *degraded quality of service* where the desired electricity consumption is not satisfied at all times.\n",
    "\n",
    "Then you can witness how the solar plant together with the battery can *improve* this quality of service (only partially though).\n",
    "\n",
    "**Intructions**: \n",
    "1. Run the cell to change the value of `power_rated_gen`. This is a global variable which sets the size of the generator.\n",
    "2. Go back to the interactive plot above and move the slider to update the computation with the new generator size"
   ]
  },
  {
   "cell_type": "code",
   "execution_count": 3,
   "id": "d3da946d-a4d8-4d94-b393-a21a10eac3fa",
   "metadata": {},
   "outputs": [],
   "source": [
    "power_rated_gen = 1000.  # < 1000 to see some significant load shedding (kW)"
   ]
  }
 ],
 "metadata": {
  "kernelspec": {
   "display_name": "Python 3 (ipykernel)",
   "language": "python",
   "name": "python3"
  },
  "language_info": {
   "codemirror_mode": {
    "name": "ipython",
    "version": 3
   },
   "file_extension": ".py",
   "mimetype": "text/x-python",
   "name": "python",
   "nbconvert_exporter": "python",
   "pygments_lexer": "ipython3",
   "version": "3.9.12"
  }
 },
 "nbformat": 4,
 "nbformat_minor": 5
}
