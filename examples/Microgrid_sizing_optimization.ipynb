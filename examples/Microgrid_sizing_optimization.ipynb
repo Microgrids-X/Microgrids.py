{
 "cells": [
  {
   "cell_type": "markdown",
   "id": "72a01cb5-68fa-40e1-85dd-f32b1733a8ac",
   "metadata": {},
   "source": [
    "# Microgrid sizing optimization\n",
    "\n",
    "Following the first example about [Microgrid performance simulation](Microgrid_Wind-Solar.ipynb)\n",
    "using [Microgrids.py](https://github.com/Microgrids-X/Microgrids.py),\n",
    "this notebook delves into **optimal microgrid sizing**.\n",
    "This means finding the optimal size (rated power or energy) of each component by solving an optimization problem where the objective function is composed of Key Performance Indicators (KPIs) related to the economic and technical performance of the project.\n",
    "\n",
    "Like in the previous example, the sizing is done for a microgrid project with *wind* and *solar* sources, plus a *battery* and a *dispatchable generator*.\n",
    "\n",
    "<img alt='schematic of a microgrid with a symbolic representation of the notion of sizing' src='./images/microgrid_sizing.png' style='height:18em'>\n",
    "\n",
    "The main steps of the optimal sizing process are:\n",
    "1. set up the problem (in particular loading project data like prices and time series)\n",
    "2. run the optimization\n",
    "3. analyze the results"
   ]
  },
  {
   "cell_type": "markdown",
   "id": "337baec8-ae9e-4653-bbbc-f5aeda5b682a",
   "metadata": {},
   "source": [
    "## About the optimization formulation and process\n",
    "\n",
    "### Optimization formulation\n",
    "\n",
    "In this illustrative sizing example, the optimization objective (criterion) is:\n",
    "- minimize the Levelized Costs of Electricity `lcoe` (€/kWh)\n",
    "- while keeping the load shedding rate below some threshold (ex.: shedding rate ≤ 1%)\n",
    "\n",
    "but other indicators could be used as well: rate of renewables above some threshold...\n",
    "\n",
    "The above problem is a constrained optimization problem. Since we'll use unconstrained optimization solvers, we will reformulate it as: objective = lcoe + penalty for excess of shedding.\n",
    "\n",
    "### Optimization process\n",
    "\n",
    "This is a “blackbox” type of optimization problem: the optimization algorithm calls iteratively the Microgrid simulator with sizings to be tested until convergence (or reaching the maximum allowed number of iterations):\n",
    "\n",
    "<img alt='schematic of microgrid sizing optimization process: iterations call of the simulator by optimizer' src='./images/MG_optim_diagram.png' style='height:18em'>\n",
    "\n",
    "The code is meant for using the optimization solvers from [scipy.optimize](https://docs.scipy.org/doc/scipy/reference/optimize.html#optimization), but it could be adapted to other optimizers with minor changes (see remark below about the modularity of the code)."
   ]
  },
  {
   "cell_type": "code",
   "execution_count": 1,
   "id": "b11fd9dc-f9d0-48ae-ba5c-80aae30be4f9",
   "metadata": {},
   "outputs": [],
   "source": [
    "try: # Install microgrids package in JupyterLite (if run in JupyterLite)\n",
    "    import piplite\n",
    "    await piplite.install(['microgrids', 'ipywidgets'])\n",
    "except ImportError:\n",
    "    pass"
   ]
  },
  {
   "cell_type": "code",
   "execution_count": 2,
   "id": "c446e1a1-d40b-41c0-b4e6-cfcb0644de1b",
   "metadata": {},
   "outputs": [],
   "source": [
    "import numpy as np\n",
    "import scipy.optimize as opt\n",
    "from matplotlib import pyplot as plt\n",
    "\n",
    "import microgrids as mgs"
   ]
  },
  {
   "cell_type": "markdown",
   "id": "5e20bad8-81a3-4a6b-8c1e-6848a20c0d55",
   "metadata": {},
   "source": [
    "## Load Microgrid project data\n",
    "\n",
    "Loading parameters and time series for a Microgrid project with *wind* and *solar* sources, plus a *battery* and a *dispatchable generator*. \n",
    "Values gathered from the [Microgrid_Wind-Solar.ipynb](Microgrid_Wind-Solar.ipynb) notebook."
   ]
  },
  {
   "cell_type": "code",
   "execution_count": 3,
   "id": "a078bb9d-37a9-45f0-bb00-4404a44dcb30",
   "metadata": {},
   "outputs": [
    {
     "name": "stdout",
     "output_type": "stream",
     "text": [
      "Data definition for Microgrid with wind, solar, storage and generator...\n"
     ]
    }
   ],
   "source": [
    "%run -i Microgrid_Wind-Solar_data.py"
   ]
  },
  {
   "cell_type": "markdown",
   "id": "9431f37f-4a44-42f7-a017-4935125731f2",
   "metadata": {},
   "source": [
    "## Setting up the cost function (criterion) to be optimized\n",
    "\n",
    "The key coding objective is to **encapsulate** the microgrid simulator (`Microgrid.simulate` method) into an objective function that can be called by the optimization algorithm, that is which respects its expected interface (here [`minimize`](https://docs.scipy.org/doc/scipy/reference/optimize.html#local-multivariate-optimization) or one of the [global optimizers](https://docs.scipy.org/doc/scipy/reference/optimize.html#global-optimization) from `scipy.optimize`).\n",
    "\n",
    "To increase the modularity which facilitates using optimization solvers others that Scipy's we implement the encapsulation by **3 nested functions**:\n",
    "\n",
    "1. Simulation of Microgrid project described by a sizing vector `x` (vector input) → returns all simulation statistics\n",
    "2. Extract KPIs of interest to build a multi-objective criterion: here lcoe and shedding rate\n",
    "3. Combine these KPIs as one mono-objective criterion: here LCOE + penalty if shedding rate > shed_max\n",
    "   - and match the interface expected by Scipy's optimizers\n",
    "\n",
    "but if one cares more about compactness, this could be assembled into one single function."
   ]
  },
  {
   "cell_type": "markdown",
   "id": "adb0b6bb-54f7-4849-b1b0-b236681be8d9",
   "metadata": {},
   "source": [
    "### Wrapper of the Microgrid simulator\n",
    "\n",
    "accept a sizing vector `x`, then create all `Microgrids.py` components and call `simulate`"
   ]
  },
  {
   "cell_type": "code",
   "execution_count": 4,
   "id": "b1b119b9-0e9c-447d-b708-ef64e11b0d0d",
   "metadata": {},
   "outputs": [],
   "source": [
    "def simulate_microgrid(x):\n",
    "    \"\"\"Simulate the performance of a Microgrid project of size `x`\n",
    "    with x=[power_rated_gen, energy_rated_sto, power_rated_pv, power_rated_wind]\n",
    "    \n",
    "    Returns stats, costs\n",
    "    \"\"\"\n",
    "    project = mgs.Project(lifetime, discount_rate, timestep, \"€\")\n",
    "    # Split decision variables (converted MW → kW):\n",
    "    power_rated_gen = x[0]*1000\n",
    "    energy_rated_sto = x[1]*1000\n",
    "    power_rated_pv = x[2]*1000\n",
    "    power_rated_wind = x[3]*1000\n",
    "\n",
    "    # Create components\n",
    "    gen = mgs.DispatchableGenerator(power_rated_gen,\n",
    "        fuel_intercept, fuel_slope, fuel_price,\n",
    "        investment_price_gen, om_price_gen, lifetime_gen,\n",
    "        load_ratio_min,\n",
    "        replacement_price_ratio, salvage_price_ratio, fuel_unit)\n",
    "    batt = mgs.Battery(energy_rated_sto,\n",
    "        investment_price_sto, om_price_sto, lifetime_sto, lifetime_cycles,\n",
    "        charge_rate, discharge_rate, loss_factor_sto, SoC_min, SoC_ini,\n",
    "        replacement_price_ratio, salvage_price_ratio)\n",
    "    pv = mgs.Photovoltaic(power_rated_pv, irradiance,\n",
    "        investment_price_pv, om_price_pv,\n",
    "        lifetime_pv, derating_factor_pv,\n",
    "        replacement_price_ratio, salvage_price_ratio)\n",
    "    windgen = mgs.WindPower(power_rated_wind, cf_wind,\n",
    "        investment_price_wind, om_price_wind,\n",
    "        lifetime_wind,\n",
    "        replacement_price_ratio, salvage_price_ratio)\n",
    "    mg = mgs.Microgrid(project, Pload, gen, batt, {\n",
    "        'Solar': pv,\n",
    "        'Wind': windgen\n",
    "    })\n",
    "\n",
    "    # Launch simulation:\n",
    "    stats, costs = mg.simulate()\n",
    "\n",
    "    return stats, costs"
   ]
  },
  {
   "cell_type": "markdown",
   "id": "e5321132-a5bf-467b-839b-99e36a2e781c",
   "metadata": {},
   "source": [
    "Test of the simulator wrapper (on a baseline sizing):"
   ]
  },
  {
   "cell_type": "code",
   "execution_count": 5,
   "id": "d765dc6a-eeda-4727-b259-479176670dc1",
   "metadata": {},
   "outputs": [
    {
     "data": {
      "text/plain": [
       "(array([1.8, 5. , 3. , 0.9]), 0.22924812869928668, 21.890027729086526)"
      ]
     },
     "execution_count": 5,
     "metadata": {},
     "output_type": "execute_result"
    }
   ],
   "source": [
    "# Baseline sizing: same as in Microgrid_Wind-Solar.ipynb notebook\n",
    "x_base = np.array([power_rated_gen, energy_rated_sto, power_rated_pv, power_rated_wind])/1000.\n",
    "# run simulation:\n",
    "stats, costs = simulate_microgrid(x_base)\n",
    "x_base, costs.lcoe, costs.npc/1e6"
   ]
  },
  {
   "cell_type": "markdown",
   "id": "6e51a19f-0f68-44e4-ae09-ad11806f5747",
   "metadata": {},
   "source": [
    "### Build the objective functions (criteria)\n",
    "\n",
    "- first bi-objective function x ↦ (lcoe, shedding rate)(x)\n",
    "- then wrapped into a mono objective x ↦ J(x) by using a penalty for the excess of shedding rate\n",
    "  - and match the interface expected by NLopt's optimizers"
   ]
  },
  {
   "cell_type": "code",
   "execution_count": 6,
   "id": "470f5630-322c-497f-bac9-beb87f014f71",
   "metadata": {},
   "outputs": [],
   "source": [
    "def obj_multi(x):\n",
    "    \"Multi-objective criterion for microgrid performance: lcoe, shedding rate\"\n",
    "    stats, costs = simulate_microgrid(x)\n",
    "    # Extract KPIs of interest\n",
    "    lcoe = costs.lcoe # $/kWh\n",
    "    shed_rate = stats.shed_rate # in [0,1]\n",
    "    return lcoe, shed_rate"
   ]
  },
  {
   "cell_type": "code",
   "execution_count": 7,
   "id": "6b3eb2d2-1513-424b-baa0-a49ca5247bb4",
   "metadata": {},
   "outputs": [],
   "source": [
    "def obj(x, shed_max, w_shed_max=1e5):\n",
    "    \"\"\"Mono-objective criterion: LCOE + penalty if shedding rate > `shed_max`\n",
    "    \n",
    "    load shedding penalty threshold `shed_max` should be in [0,1[\n",
    "    \"\"\"\n",
    "    lcoe, shed_rate = obj_multi(x)\n",
    "    over_shed = shed_rate - shed_max\n",
    "    if over_shed > 0.0:\n",
    "        penalty = w_shed_max*over_shed\n",
    "    else:\n",
    "        penalty = 0.0\n",
    "    return lcoe + penalty"
   ]
  },
  {
   "cell_type": "markdown",
   "id": "c57f7af9-ea2f-40a8-b502-ba98b472410c",
   "metadata": {},
   "source": [
    "### Tests the objective functions\n",
    "\n",
    "Sizing being tested:\n",
    "- baseline sizing from the simulation notebook: perfect quality of service (QoS) with zero load shedding\n",
    "- baseline modified with a halved generator sizing: very good QoS with a bit of load shedding → not penalized\n",
    "- small PV and small wind generators only: low LCOE (i.e. the production-only LCOE of these sources) but but extremely bad QoS → huge penalty"
   ]
  },
  {
   "cell_type": "code",
   "execution_count": 8,
   "id": "8de2153d-559f-4a60-880e-e8ea5fa3b810",
   "metadata": {},
   "outputs": [
    {
     "name": "stdout",
     "output_type": "stream",
     "text": [
      "Base. multi: (0.22924812869928668, 0.0) mono: 0.22924812869928668\n",
      "Shed. multi: (0.2067100016092461, 0.009602858175478346) mono: 0.2067100016092461\n",
      "PV.   multi: (0.10149717606888833, 0.9235477392624462) mono: 91354.87542342069\n",
      "Wind. multi: (0.10040273654193947, 0.7439572426735248) mono: 73395.82467008902\n"
     ]
    }
   ],
   "source": [
    "# Test:\n",
    "shed_max = 0.01 # in [0,1]\n",
    "\n",
    "x_shed = np.array([power_rated_gen/2, energy_rated_sto, power_rated_pv, power_rated_wind])/1000.\n",
    "x_pv   = np.array([1e-4, 0., 500.,   0.])/1000. # 0-sized gen yields ZeroDivisionError in lifetime\n",
    "x_wind = np.array([1e-4, 0.,   0., 500.])/1000.\n",
    "\n",
    "print(f\"Base. multi: {obj_multi(x_base)} mono: {obj(x_base, shed_max)}\")\n",
    "print(f\"Shed. multi: {obj_multi(x_shed)} mono: {obj(x_shed, shed_max)}\")\n",
    "print(f\"PV.   multi: {obj_multi(x_pv)} mono: {obj(x_pv, shed_max)}\")\n",
    "print(f\"Wind. multi: {obj_multi(x_wind)} mono: {obj(x_wind, shed_max)}\")"
   ]
  },
  {
   "cell_type": "markdown",
   "id": "dfbf1ccf-a7df-474a-991c-9437bd83d8ab",
   "metadata": {},
   "source": [
    "## Optimization"
   ]
  },
  {
   "cell_type": "markdown",
   "id": "d15efd32-c2ab-4d9a-98cf-5918cdf0b9b1",
   "metadata": {},
   "source": [
    "### Setting up the optimization problem"
   ]
  },
  {
   "cell_type": "markdown",
   "id": "87ccea54-0d83-4b01-8f7e-de37c8dfa0d9",
   "metadata": {},
   "source": [
    "bounds of the design space and starting point: derived from maximal load power"
   ]
  },
  {
   "cell_type": "code",
   "execution_count": 10,
   "id": "5ac92d7e-5de1-4ddf-a050-6897dbc8af2d",
   "metadata": {},
   "outputs": [],
   "source": [
    "Pload_max = np.max(Pload)\n",
    "\n",
    "xmin = np.array([0., 0., 1e-3, 0.]) # 1e-3 instead of 0.0, because LCOE is NaN if ther is exactly zero generation\n",
    "x0 = np.array([1.0, 3.0, 3.0, 2.0]) * (Pload_max/1000)\n",
    "xmax = np.array([1.2, 10.0, 10.0, 5.0]) * (Pload_max/1000)"
   ]
  },
  {
   "cell_type": "markdown",
   "id": "6c2bc984-bae8-403f-8130-d50efc8f5717",
   "metadata": {},
   "source": [
    "Optionally ban some choices:"
   ]
  },
  {
   "cell_type": "code",
   "execution_count": 12,
   "id": "9f65e094-4c58-4e9b-b4ee-b626f6504f6c",
   "metadata": {},
   "outputs": [],
   "source": [
    "# Solar power forbidden (optional)\n",
    "#x0[3] = 1e-3\n",
    "#xmax[3] = 1e-3\n",
    "# Wind power forbidden (optional)\n",
    "#x0[4] = 0.\n",
    "#xmax[4] = 0."
   ]
  },
  {
   "cell_type": "markdown",
   "id": "f1bd17b9-c02d-4280-8715-c46efe6c03f4",
   "metadata": {},
   "source": [
    "Check cost function on `xmin` and `xmax`"
   ]
  },
  {
   "cell_type": "code",
   "execution_count": 13,
   "id": "f683f7b8-75eb-43d6-a32e-e7178a4f560b",
   "metadata": {},
   "outputs": [
    {
     "data": {
      "text/plain": [
       "((0.10149685980963591, 0.9998470957371233), (0.8229416738277804, 0.0))"
      ]
     },
     "execution_count": 13,
     "metadata": {},
     "output_type": "execute_result"
    }
   ],
   "source": [
    "obj_multi(xmin), obj_multi(xmax)"
   ]
  },
  {
   "cell_type": "markdown",
   "id": "3daceed1-2315-4eca-b7bd-b3a1e31cff09",
   "metadata": {},
   "source": [
    "### Wrapper of the optimization process\n",
    "\n",
    "This is an optional step, but recommended to explore easily the impact of the many parameters taken by optimization algorithms.\n",
    "\n",
    "See [optimization termination conditions](https://nlopt.readthedocs.io/en/latest/NLopt_Introduction/#termination-conditions) in NLopt documention for the meaning of `xtol_rel`\n",
    "\n",
    "See https://docs.scipy.org/doc/scipy/reference/optimize.html#optimization"
   ]
  },
  {
   "cell_type": "code",
   "execution_count": 16,
   "id": "08491363-e1ce-47d3-a425-4bc83888be12",
   "metadata": {},
   "outputs": [],
   "source": [
    "def optim_mg(x0, shed_max, algo='DIRECT', maxeval=1000, xtol_rel=1e-4, srand=1):\n",
    "    \"\"\"Optimize sizing of microgrid based on the `obj` function\n",
    "\n",
    "    Parameters:\n",
    "    - `x0`: initial sizing (for the algorithms which need them)\n",
    "    - `shed_max`: load shedding penalty threshold (same as in `obj`)\n",
    "    - `algo` could be one of 'DIRECT'...\n",
    "    - `maxeval`: maximum allowed number of calls to the objective function,\n",
    "      that is to the microgrid simulation\n",
    "    - `xtol_rel`: termination condition based on relative change of sizing, see NLopt doc.\n",
    "    - `srand`: random number generation seed (for algorithms which use some stochastic search)\n",
    "    \n",
    "    Problem bounds are taken as the global variables `xmin`, `xmax`,\n",
    "    but could be added to the parameters as well.\n",
    "    \"\"\"\n",
    "    nx = len(x0) # number of optim variables\n",
    "    bounds = opt.Bounds(xmin, xmax)\n",
    "    if algo=='DIRECT':\n",
    "        res = opt.direct(obj, bounds, args=(shed_max,), maxfun=maxeval)\n",
    "    else:\n",
    "        raise ValueError(f'Unsupported optimization algorithm {algo}')\n",
    "    \n",
    "    xopt = res.x\n",
    "    return xopt, res, res.nfev"
   ]
  },
  {
   "cell_type": "markdown",
   "id": "11264431-19b1-4349-bc90-19d88bba1b87",
   "metadata": {},
   "source": [
    "### Run optimization & analyze results"
   ]
  },
  {
   "cell_type": "code",
   "execution_count": 19,
   "id": "d32fcbf4-42fc-42aa-a4ad-1b8ca24a984d",
   "metadata": {},
   "outputs": [
    {
     "name": "stdout",
     "output_type": "stream",
     "text": [
      "DIRECT algo: Number of function evaluations done is larger than maxfun=1000 after 1009 iterations.\n",
      "x*= [ 910.6 1877.2 1550.2 1356.2]\n",
      "LCOE*: 0.19126795464515603\n",
      "shed*: 0.008861252247391888\n"
     ]
    }
   ],
   "source": [
    "algo = 'DIRECT' # could be one of 'DIRECT'...\n",
    "shed_max = 0.01 # in [0,1]\n",
    "maxeval = 1000\n",
    "xopt, res, numevals = optim_mg(x0, shed_max, algo, maxeval)\n",
    "\n",
    "print(f'{algo} algo: {res.message} after {numevals} iterations.')\n",
    "print(f'x*= {np.round(xopt*1000, decimals=1)}') # kW\n",
    "lcoe_opt, shed_rate_opt = obj_multi(xopt)\n",
    "print(f'LCOE*: {lcoe_opt}', )\n",
    "print(f'shed*: {shed_rate_opt}')"
   ]
  },
  {
   "cell_type": "markdown",
   "id": "a98e9f89-feb9-471c-8374-d4826727f3bf",
   "metadata": {},
   "source": [
    "---\n",
    "First optim working OK\n",
    "\n",
    "🚧 ***TO BE CONTINUED*** 🚧"
   ]
  },
  {
   "cell_type": "markdown",
   "id": "58772966-74b1-431c-9f84-e8efe7352130",
   "metadata": {},
   "source": [
    "optional local \"polishing\":"
   ]
  },
  {
   "cell_type": "code",
   "execution_count": null,
   "id": "78b3e3f8-0de8-47f3-a8a4-40358feef172",
   "metadata": {},
   "outputs": [],
   "source": [
    "algo_polish = :LN_SBPLX\n",
    "xopt_polish, ret, numevals = optim_mg(xopt, shed_max, algo_polish)\n",
    "\n",
    "@printf(\"%s polish: %s after %d iterations. \\nx*=\", algo_polish, ret, numevals)\n",
    "println(round.(xopt_polish*1000; digits=1)) # kW\n",
    "lcoe_opt, shed_rate_opt = obj_multi(xopt_polish)\n",
    "println(\"LCOE*: \", lcoe_opt)\n",
    "println(\"shed*: \", shed_rate_opt)"
   ]
  },
  {
   "cell_type": "markdown",
   "id": "f543939c-c26d-40fb-aefa-129dff57ae1d",
   "metadata": {},
   "source": [
    "Retrieve all performance statistics of the optimized sizing"
   ]
  },
  {
   "cell_type": "code",
   "execution_count": null,
   "id": "1e046d9e-21ec-4834-9bf3-5bc1c9be1f0a",
   "metadata": {},
   "outputs": [],
   "source": [
    "stats_opt, costs_opt = simulate_microgrid(xopt)\n",
    "@printf(\"NPC*: %.2f M\\$ (compared to %.2f M\\$ in baseline)\\n\", costs_opt.npc/1e6, costs.npc/1e6)\n",
    "@printf(\"rate of renewables: %.1f %%\\n\", stats_opt.renew_rate*100)\n",
    "# Display all operation statistics\n",
    "stats_opt"
   ]
  },
  {
   "cell_type": "markdown",
   "id": "464f74e6-2939-4bed-ac6f-87ec8ef99660",
   "metadata": {},
   "source": [
    "#### Summary of some results for 1% max shedding rate OUTDATED 💩\n",
    "\n",
    "Global search algorithms:\n",
    "- **CRS2**: 0.190 720 \\$/kWh (with shedding ~ threshold).\n",
    "  x* = [889.0, 2013.0, 1570.9, 1354.0] → *best global algorithm choice so far, although effect of seed not studied*\n",
    "- **DIRECT**: 0.191 297 \\$/kWh (with shedding < threshold) in 1000 iter.\n",
    "  x* = [910.4, 1837.8, 1543.3, 1375.7] \n",
    "    - \"polishing\" with SBPLX: 0.190 650 \\$/kWh (with shedding ~ threshold) in 207 extra iter.\n",
    "      x* = [887.1, 1992.4, 1543.3, 1375.6]\n",
    "    - increasing DIRECT maxeval to 10k doesn't bring much improvement (0.191 258 \\$/kWh)\n",
    "      compared to SBPLX polishing\n",
    "- **ESCH**: 0.194 884 \\$/kWh with shedding OK (with shedding < threshold) in 1000 iter.\n",
    "  x* = [1028.1, 1769.6, 1420.5, 1365.1] → *much slower to converge than DIRECT or CRS*\n",
    "\n",
    "Local search algorithms:\n",
    "- **SUBPLX**: 0.190 630 \\$/kWh with (with shedding ~ threshold) **in 479 iter** (<maxeval).\n",
    "  x* = [888.6, 1873.5, 1558.5, 1355.9]\n",
    "  - very competitive, but too sensitive to initialization `x0`?"
   ]
  },
  {
   "cell_type": "markdown",
   "id": "6fec0632-2c4b-4683-8d53-c8062fd238d7",
   "metadata": {},
   "source": [
    "#### Case with perfect quality of service (QoS)\n",
    "\n",
    "Another optimization case with perfect quality of service (QoS), that is zero load shedding  "
   ]
  },
  {
   "cell_type": "code",
   "execution_count": null,
   "id": "8f4a08f2-96d5-47f1-a9fb-41a419051be8",
   "metadata": {},
   "outputs": [],
   "source": [
    "algo = :GN_CRS2_LM # could be one of LN_SBPLX, GN_DIRECT, GN_CRS2_LM, GN_ESCH...\n",
    "shed_max = 0.00 # in [0,1]\n",
    "maxeval=1000\n",
    "xopt, ret, numevals = optim_mg(x0, shed_max, algo, maxeval)\n",
    "\n",
    "@printf(\"%s algo: %s after %d iterations. \\nx*=\", algo, ret, numevals)\n",
    "println(round.(xopt*1000; digits=1)) # kW\n",
    "lcoe_opt, shed_rate_opt = obj_multi(xopt)\n",
    "println(\"LCOE*: \", lcoe_opt)\n",
    "println(\"shed*: \", shed_rate_opt)"
   ]
  },
  {
   "cell_type": "markdown",
   "id": "6d4a8f44-eebd-49cd-bcf3-2e44fd3372c7",
   "metadata": {},
   "source": [
    "#### Performance (duration) of the optimization\n",
    "\n",
    "About 11 s for 1k iterations, i.e. 11 ms/iter."
   ]
  },
  {
   "cell_type": "code",
   "execution_count": 18,
   "id": "9dc290cb-ac52-44db-8ee3-c54dce0fe4be",
   "metadata": {},
   "outputs": [
    {
     "name": "stdout",
     "output_type": "stream",
     "text": [
      "10.9 s ± 0 ns per loop (mean ± std. dev. of 1 run, 1 loop each)\n"
     ]
    }
   ],
   "source": [
    "%timeit -n 1 -r 1 xopt, ret, numevals = optim_mg(x0, shed_max, 'DIRECT', 1000)"
   ]
  },
  {
   "cell_type": "markdown",
   "id": "ce32248d-39de-448a-829c-376e1eaaa550",
   "metadata": {},
   "source": [
    "Fact: optimization time relates to simulation time with Toptim ~ Tsim × neval"
   ]
  },
  {
   "cell_type": "code",
   "execution_count": 24,
   "id": "32e0ceea-c4eb-4625-a8f7-653c7ebaca9a",
   "metadata": {},
   "outputs": [
    {
     "name": "stdout",
     "output_type": "stream",
     "text": [
      "10.7 ms ± 160 µs per loop (mean ± std. dev. of 7 runs, 100 loops each)\n"
     ]
    }
   ],
   "source": [
    "%timeit obj_multi(x_base) # with x0 it's slightly faster 10.5 → 9.5 ms"
   ]
  },
  {
   "cell_type": "markdown",
   "id": "5c98e820-42b1-439b-9091-6349a63a4bc3",
   "metadata": {},
   "source": [
    "Remark: for *some reason*, the simulator was at some point **twice slower** here compared to [Microgrid_Wind-Solar.ipynb](Microgrid_Wind-Solar.ipynb) (11 ms → 24 ms). BUT after restarting the kernel, it's back at 11 ms!"
   ]
  },
  {
   "cell_type": "markdown",
   "id": "37b788d2-a5c7-4444-9f45-fefa8929d6fe",
   "metadata": {},
   "source": [
    "---\n",
    "## *How we imagine the optimization interface in a future version...*\n",
    "\n",
    "Desirable feature: *dynamically select* which variables are optimized (e.g. using `getattr` to dynamically access object fields...)"
   ]
  },
  {
   "cell_type": "code",
   "execution_count": 58,
   "id": "2a51ac3b-4493-472b-8b0f-ac924edf5de7",
   "metadata": {},
   "outputs": [],
   "source": [
    "#mg0 = baseline microgrid project, with given price and time series data\n",
    "opti_params = [ # list of component/variable name, initial, min, max values\n",
    "    (['generator', 'power_rated'], 1000.0, 0., 2000.), \n",
    "    (['battery', 'energy_max'],    3000.0, 0., 6000.)\n",
    "]\n",
    "#optim_mg(mg0, opti_params)"
   ]
  }
 ],
 "metadata": {
  "kernelspec": {
   "display_name": "Python 3 (ipykernel)",
   "language": "python",
   "name": "python3"
  },
  "language_info": {
   "codemirror_mode": {
    "name": "ipython",
    "version": 3
   },
   "file_extension": ".py",
   "mimetype": "text/x-python",
   "name": "python",
   "nbconvert_exporter": "python",
   "pygments_lexer": "ipython3",
   "version": "3.11.5"
  }
 },
 "nbformat": 4,
 "nbformat_minor": 5
}
